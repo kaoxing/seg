{
 "cells": [
  {
   "cell_type": "code",
   "execution_count": 2,
   "metadata": {},
   "outputs": [],
   "source": [
    "import numpy as np\n",
    "\n",
    "import pyqtgraph as pg\n",
    "\n",
    "data = np.random.normal(size=1000)\n",
    "pg.plot(data, title=\"Simplest possible plotting example\")\n",
    "\n",
    "# data = np.random.normal(size=(500,500))\n",
    "# pg.image(data, title=\"Simplest possible image example\")\n",
    "\n",
    "if __name__ == '__main__':\n",
    "    pg.exec()"
   ]
  },
  {
   "cell_type": "code",
   "execution_count": 3,
   "metadata": {},
   "outputs": [],
   "source": [
    "import pyqtgraph.examples\n",
    "pyqtgraph.examples.run()"
   ]
  },
  {
   "cell_type": "code",
   "execution_count": 6,
   "metadata": {},
   "outputs": [
    {
     "ename": "SystemExit",
     "evalue": "0",
     "output_type": "error",
     "traceback": [
      "An exception has occurred, use %tb to see the full traceback.\n",
      "\u001b[1;31mSystemExit\u001b[0m\u001b[1;31m:\u001b[0m 0\n"
     ]
    }
   ],
   "source": [
    "# coding:utf-8 # @文件: 1.py # @创建者：州的先生 # #日期：2019/5/12 # 博客地址：zmister.com\n",
    "from PyQt5 import QtWidgets, QtCore, QtGui\n",
    "# import tushare as ts\n",
    "import pyqtgraph as pg\n",
    "import sys\n",
    "import datetime\n",
    "import traceback\n",
    "import numpy as np\n",
    "\n",
    "\n",
    "class MainUi(QtWidgets.QMainWindow):\n",
    "    def __init__(self):\n",
    "        super().__init__()\n",
    "        self.setWindowTitle(\"CPU使用率监控 - 州的先生https://zmister.com\")\n",
    "        self.main_widget = QtWidgets.QWidget()# 创建一个主部件\n",
    "        self.main_layout = QtWidgets.QGridLayout()# 创建一个网格布局\n",
    "        self.main_widget.setLayout(self.main_layout)# 设置主部件的布局为网格\n",
    "        self.setCentralWidget(self.main_widget)# 设置窗口默认部件\n",
    "        self.plot_widget = QtWidgets.QWidget()\n",
    "        # 实例化一个widget部件作为K线图部件\n",
    "        self.plot_layout = QtWidgets.QGridLayout()\n",
    "        # 实例化一个网格布局层\n",
    "        self.plot_widget.setLayout(self.plot_layout)\n",
    "        # 设置线图部件的布局层\n",
    "        self.plot_plt = pg.PlotWidget()\n",
    "        # 实例化一个绘图部件\n",
    "        self.plot_plt.showGrid(x=True, y=True)\n",
    "        # 显示图形网格\n",
    "        self.plot_layout.addWidget(self.plot_plt)\n",
    "        # 添加绘图部件到线图部件的网格布局层\n",
    "        # 将上述部件添加到布局层中\n",
    "        self.main_layout.addWidget(self.plot_widget, 1, 0, 3, 3)\n",
    "        self.setCentralWidget(self.main_widget)\n",
    "\n",
    "\n",
    "def main():\n",
    "    app = QtWidgets.QApplication(sys.argv)\n",
    "    gui = MainUi()\n",
    "    gui.show()\n",
    "    sys.exit(app.exec_())\n",
    "\n",
    "\n",
    "if __name__ == '__main__':\n",
    "    main()\n"
   ]
  },
  {
   "cell_type": "code",
   "execution_count": 1,
   "metadata": {},
   "outputs": [
    {
     "name": "stdout",
     "output_type": "stream",
     "text": [
      "7.0\n",
      "2.0\n",
      "4.0\n",
      "4.0\n",
      "2.0\n",
      "2.0\n",
      "8.0\n"
     ]
    },
    {
     "ename": "SystemExit",
     "evalue": "0",
     "output_type": "error",
     "traceback": [
      "An exception has occurred, use %tb to see the full traceback.\n",
      "\u001b[1;31mSystemExit\u001b[0m\u001b[1;31m:\u001b[0m 0\n"
     ]
    },
    {
     "name": "stderr",
     "output_type": "stream",
     "text": [
      "d:\\Python\\Anaconda\\envs\\pytorch\\lib\\site-packages\\IPython\\core\\interactiveshell.py:3405: UserWarning: To exit: use 'exit', 'quit', or Ctrl-D.\n",
      "  warn(\"To exit: use 'exit', 'quit', or Ctrl-D.\", stacklevel=1)\n"
     ]
    }
   ],
   "source": [
    "from PyQt5 import QtWidgets, QtCore, QtGui\n",
    "import pyqtgraph as pg\n",
    "import sys\n",
    "import traceback\n",
    "import random\n",
    "# import psutil\n",
    "\n",
    "\n",
    "class MainUi(QtWidgets.QMainWindow):\n",
    "    def __init__(self):\n",
    "        super().__init__()\n",
    "        self.setWindowTitle(\"CPU使用率监控 - 州的先生https://zmister.com\")\n",
    "        self.main_widget = QtWidgets.QWidget()\n",
    "        self.main_layout = QtWidgets.QGridLayout()\n",
    "        self.main_widget.setLayout(self.main_layout)\n",
    "        self.setCentralWidget(self.main_widget)\n",
    "        self.plot_widget = QtWidgets.QWidget()\n",
    "        self.plot_layout = QtWidgets.QGridLayout()\n",
    "        self.plot_widget.setLayout(self.plot_layout)\n",
    "        self.plot_plt = pg.PlotWidget()\n",
    "        self.plot_plt.showGrid(x=True, y=True)\n",
    "        self.plot_layout.addWidget(self.plot_plt)\n",
    "        self.main_layout.addWidget(self.plot_widget, 1, 0, 3, 3)\n",
    "        self.setCentralWidget(self.main_widget)\n",
    "        self.plot_plt.setYRange(max=100, min=0)\n",
    "        self.data_list = []\n",
    "        self.timer_start()      # 启动定时器 时间间隔秒\n",
    "\n",
    "    def timer_start(self):\n",
    "        self.timer = QtCore.QTimer(self)\n",
    "        self.timer.timeout.connect(self.get_cpu_info)\n",
    "        self.timer.start(1000)      # 获取CPU使用率\n",
    "\n",
    "    def get_cpu_info(self):\n",
    "        try:\n",
    "            # cpu = \"%0.2f\" % psutil.cpu_percent(interval=1)\n",
    "            cpu = random.randint(0,10)\n",
    "            self.data_list.append(float(cpu))\n",
    "            print(float(cpu))\n",
    "            self.plot_plt.plot().setData(self.data_list, pen='g')\n",
    "        except Exception as e:\n",
    "            print(traceback.print_exc())\n",
    "\n",
    "\n",
    "def main():\n",
    "    app = QtWidgets.QApplication(sys.argv)\n",
    "    gui = MainUi()\n",
    "    gui.show()\n",
    "    sys.exit(app.exec_())\n",
    "\n",
    "\n",
    "if __name__ == '__main__':\n",
    "    main()\n"
   ]
  }
 ],
 "metadata": {
  "kernelspec": {
   "display_name": "pytorch",
   "language": "python",
   "name": "python3"
  },
  "language_info": {
   "codemirror_mode": {
    "name": "ipython",
    "version": 3
   },
   "file_extension": ".py",
   "mimetype": "text/x-python",
   "name": "python",
   "nbconvert_exporter": "python",
   "pygments_lexer": "ipython3",
   "version": "3.9.12"
  },
  "orig_nbformat": 4,
  "vscode": {
   "interpreter": {
    "hash": "85a85b689df3ecff1a2d280b827427bf4e784af2333236be0436b1d2e039d6d9"
   }
  }
 },
 "nbformat": 4,
 "nbformat_minor": 2
}
